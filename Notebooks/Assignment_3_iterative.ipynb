{
  "nbformat": 4,
  "nbformat_minor": 0,
  "metadata": {
    "colab": {
      "name": "Assignment-3.ipynb",
      "provenance": [],
      "collapsed_sections": []
    },
    "kernelspec": {
      "name": "python3",
      "display_name": "Python 3"
    },
    "language_info": {
      "name": "python"
    }
  },
  "cells": [
    {
      "cell_type": "markdown",
      "source": [
        "**Program to reverse a number**"
      ],
      "metadata": {
        "id": "qwZmhLGE_q1u"
      }
    },
    {
      "cell_type": "code",
      "execution_count": null,
      "metadata": {
        "colab": {
          "base_uri": "https://localhost:8080/"
        },
        "id": "mzBP_0vK_nXc",
        "outputId": "1f147180-2cf8-422d-dd46-a48f3ff9c184"
      },
      "outputs": [
        {
          "output_type": "stream",
          "name": "stdout",
          "text": [
            "Enter a number: 1234\n",
            "Reversed number is 4321\n"
          ]
        }
      ],
      "source": [
        "num = int(input(\"Enter a number: \"))\n",
        "out = 0\n",
        "while num > 0:\n",
        "  out = out * 10 + num % 10\n",
        "  num //= 10\n",
        "print(f\"Reversed number is {out}\")"
      ]
    },
    {
      "cell_type": "markdown",
      "source": [
        "**Program to find the sum of first n natural numbers**"
      ],
      "metadata": {
        "id": "RCW8Etl-BFkm"
      }
    },
    {
      "cell_type": "code",
      "source": [
        "n = int(input(\"Enter n: \"))\n",
        "sum_ = 0\n",
        "for i in range(1, n + 1):\n",
        "  sum_ += i\n",
        "print(f\"Sum is {sum_}\")"
      ],
      "metadata": {
        "colab": {
          "base_uri": "https://localhost:8080/"
        },
        "id": "xp2IC36MAs9n",
        "outputId": "ce8ce4f5-627c-42fc-f00d-2cdd612577dd"
      },
      "execution_count": null,
      "outputs": [
        {
          "output_type": "stream",
          "name": "stdout",
          "text": [
            "Enter n: 5\n",
            "Sum is 15\n"
          ]
        }
      ]
    },
    {
      "cell_type": "markdown",
      "source": [
        "**Program to print sum of factors of a number**"
      ],
      "metadata": {
        "id": "Aj7L8BF6Bz7m"
      }
    },
    {
      "cell_type": "code",
      "source": [
        "num = int(input(\"Enter number: \"))\n",
        "sum_ = 0\n",
        "for i in range(1, num + 1):\n",
        "  if num % i == 0:\n",
        "    sum_ += i\n",
        "print(f\"Sum is {sum_}\")"
      ],
      "metadata": {
        "colab": {
          "base_uri": "https://localhost:8080/"
        },
        "id": "mX2DUUfLBaAI",
        "outputId": "6e46f4bc-1b24-4347-c941-edaf11300595"
      },
      "execution_count": null,
      "outputs": [
        {
          "output_type": "stream",
          "name": "stdout",
          "text": [
            "Enter number: 1234\n",
            "Sum is 1854\n"
          ]
        }
      ]
    },
    {
      "cell_type": "markdown",
      "source": [
        "**Program to print n terms of arithmetic sequence**"
      ],
      "metadata": {
        "id": "1qWOLwbyCY2e"
      }
    },
    {
      "cell_type": "code",
      "source": [
        "a = int(input(\"Enter first element: \"))\n",
        "d = int(input(\"Enter common difference: \"))\n",
        "n = int(input(\"Enter n: \"))\n",
        "for i in range(n):\n",
        "  print(a + i * d, end=\" \")"
      ],
      "metadata": {
        "colab": {
          "base_uri": "https://localhost:8080/"
        },
        "id": "CZiaXRJJCQzB",
        "outputId": "ab64558b-118c-4da2-abee-2f5d95acb740"
      },
      "execution_count": null,
      "outputs": [
        {
          "output_type": "stream",
          "name": "stdout",
          "text": [
            "Enter first element: 3\n",
            "Enter common difference: 5\n",
            "Enter n: 10\n",
            "3 8 13 18 23 28 33 38 43 48 "
          ]
        }
      ]
    },
    {
      "cell_type": "markdown",
      "source": [
        "**Program to print n elements of fibonacci sequence**"
      ],
      "metadata": {
        "id": "2-tWaHA7C0Ru"
      }
    },
    {
      "cell_type": "code",
      "source": [
        "n = int(input(\"Enter n: \"))\n",
        "a = 0\n",
        "b = 1\n",
        "c = 1\n",
        "print(1, end=\" \")\n",
        "for i in range(n - 1):\n",
        "  c = a + b\n",
        "  print(c, end=\" \")\n",
        "  a = b\n",
        "  b = c"
      ],
      "metadata": {
        "colab": {
          "base_uri": "https://localhost:8080/"
        },
        "id": "FZjrd1F3Cnsl",
        "outputId": "dca7d931-b7ba-4975-d8e4-7418469596e8"
      },
      "execution_count": null,
      "outputs": [
        {
          "output_type": "stream",
          "name": "stdout",
          "text": [
            "Enter n: 10\n",
            "1 1 2 3 5 8 13 21 34 55 "
          ]
        }
      ]
    },
    {
      "cell_type": "markdown",
      "source": [
        "**Check whether number is palindrome**"
      ],
      "metadata": {
        "id": "wMzqcEE-DnDW"
      }
    },
    {
      "cell_type": "code",
      "source": [
        "orig = int(input(\"Enter number: \"))\n",
        "num = orig\n",
        "rev = 0\n",
        "while num > 0:\n",
        "  rev = rev * 10 + num % 10\n",
        "  num //= 10\n",
        "if rev == orig:\n",
        "  print(\"Palindrome!\")\n",
        "else:\n",
        "  print(\"Not palindrome\")"
      ],
      "metadata": {
        "colab": {
          "base_uri": "https://localhost:8080/"
        },
        "id": "-TtRRXEuDehE",
        "outputId": "98e0ff89-576c-4d3e-bef8-dd3e404dcf50"
      },
      "execution_count": null,
      "outputs": [
        {
          "output_type": "stream",
          "name": "stdout",
          "text": [
            "Enter number: 12344\n",
            "Not palindrome\n"
          ]
        }
      ]
    },
    {
      "cell_type": "markdown",
      "source": [
        "**Program to check whether number is armstrong**"
      ],
      "metadata": {
        "id": "s0lnK3afEGPe"
      }
    },
    {
      "cell_type": "code",
      "source": [
        "orig = int(input(\"Enter number: \"))\n",
        "num = orig\n",
        "sum_ = 0\n",
        "while num > 0:\n",
        "  sum_ += (num % 10) ** 3\n",
        "  num //= 10\n",
        "if sum_ == orig:\n",
        "  print(\"Armstrong number!\")\n",
        "else:\n",
        "  print(\"Not armstrong number.\")"
      ],
      "metadata": {
        "colab": {
          "base_uri": "https://localhost:8080/"
        },
        "id": "y4MpxN5ZD8LS",
        "outputId": "3cd7fbbd-40d7-4636-82b9-99e991314a8c"
      },
      "execution_count": null,
      "outputs": [
        {
          "output_type": "stream",
          "name": "stdout",
          "text": [
            "Enter number: 153\n",
            "Armstrong number!\n"
          ]
        }
      ]
    },
    {
      "cell_type": "markdown",
      "source": [
        "**Program to evaluate x^n**"
      ],
      "metadata": {
        "id": "6pz0Em8YEoTW"
      }
    },
    {
      "cell_type": "code",
      "source": [
        "x = float(input(\"Enter x: \"))\n",
        "n = int(input(\"Enter n: \"))\n",
        "prod = 1\n",
        "for i in range(n):\n",
        "  prod *= x\n",
        "print(f\"x^n is {prod}\")"
      ],
      "metadata": {
        "colab": {
          "base_uri": "https://localhost:8080/"
        },
        "id": "NOLpAL7IEkaz",
        "outputId": "9decbecb-7008-44dc-f890-6a4364590f3f"
      },
      "execution_count": null,
      "outputs": [
        {
          "output_type": "stream",
          "name": "stdout",
          "text": [
            "Enter x: 3\n",
            "Enter n: 2\n",
            "x^n is 9.0\n"
          ]
        }
      ]
    },
    {
      "cell_type": "markdown",
      "source": [
        "**Print first n odd numbers**"
      ],
      "metadata": {
        "id": "jrkz1FgaE9GV"
      }
    },
    {
      "cell_type": "code",
      "source": [
        "n = int(input(\"Enter n: \"))\n",
        "for i in range(1, 2 * n + 1, 2):\n",
        "  print(i, end=\" \")"
      ],
      "metadata": {
        "colab": {
          "base_uri": "https://localhost:8080/"
        },
        "id": "oJeQ94p7E4lu",
        "outputId": "b762196e-e416-4d74-bf7b-7a620c8a2bd5"
      },
      "execution_count": null,
      "outputs": [
        {
          "output_type": "stream",
          "name": "stdout",
          "text": [
            "Enter n: 5\n",
            "1 3 5 7 9 "
          ]
        }
      ]
    },
    {
      "cell_type": "markdown",
      "source": [
        "**Program to find GCD of two numbers**"
      ],
      "metadata": {
        "id": "U9qcTGsYFSSF"
      }
    },
    {
      "cell_type": "code",
      "source": [
        "n1, n2 = eval(input(\"Enter two numbers (seperated by comma): \"))\n",
        "if n1 % n2 == 0:\n",
        "  print(f\"GCD is {n2}\")\n",
        "else:\n",
        "  while n2 != 0:\n",
        "    remainder = n1 % n2\n",
        "    n1 = n2\n",
        "    n2 = remainder\n",
        "    \n",
        "if n2 == 0:\n",
        "  print(f\"GCD is {n1}\")"
      ],
      "metadata": {
        "id": "gVvC9lKyFJ4-",
        "colab": {
          "base_uri": "https://localhost:8080/"
        },
        "outputId": "4527d252-890f-4a18-d690-3eff5c7b5f71"
      },
      "execution_count": 17,
      "outputs": [
        {
          "output_type": "stream",
          "name": "stdout",
          "text": [
            "Enter two numbers (seperated by comma): 100, 10\n",
            "GCD is 10\n"
          ]
        }
      ]
    },
    {
      "cell_type": "markdown",
      "source": [
        "**Program to print factorial of number**"
      ],
      "metadata": {
        "id": "-ZCAlXFnGG8d"
      }
    },
    {
      "cell_type": "code",
      "source": [
        "n = int(input(\"Enter a number: \"))\n",
        "fac = 1\n",
        "for i in range(1, n + 1):\n",
        "  fac *= i\n",
        "print(f\"Factorial is {fac}\")"
      ],
      "metadata": {
        "colab": {
          "base_uri": "https://localhost:8080/"
        },
        "id": "SP4pCXQaGBnD",
        "outputId": "7cddc743-2f7b-459b-c1b6-9a858a03e747"
      },
      "execution_count": 19,
      "outputs": [
        {
          "output_type": "stream",
          "name": "stdout",
          "text": [
            "Enter a number: 5\n",
            "Factorial is 120\n"
          ]
        }
      ]
    },
    {
      "cell_type": "markdown",
      "source": [
        "**Program to find the sum of the given series up to n terms. S = 1 - 4 + 9 - 16 + ....**"
      ],
      "metadata": {
        "id": "tSTzm2JqGW0-"
      }
    },
    {
      "cell_type": "code",
      "source": [
        "n = int(input(\"Enter the number of terms: \"))\n",
        "sum_ = 0\n",
        "for i in range(1, n + 1):\n",
        "  i = i * i\n",
        "  if i % 2 == 0:\n",
        "    i = -i\n",
        "  sum_ = sum_ + i\n",
        "print(f\"Sum is {sum_}\")"
      ],
      "metadata": {
        "colab": {
          "base_uri": "https://localhost:8080/"
        },
        "id": "3al3M6zkGNne",
        "outputId": "c464ecf0-084b-4770-81de-4e55b0e1b97f"
      },
      "execution_count": 22,
      "outputs": [
        {
          "output_type": "stream",
          "name": "stdout",
          "text": [
            "Enter the number of terms: 10\n",
            "Sum is -55\n"
          ]
        }
      ]
    },
    {
      "cell_type": "markdown",
      "source": [
        "**Program to check whether number is automorphic**"
      ],
      "metadata": {
        "id": "xK3aGr68HnxV"
      }
    },
    {
      "cell_type": "code",
      "source": [
        "orig = int(input(\"Enter the number: \"))\n",
        "num = orig\n",
        "sq = num ** 2\n",
        "length = 0\n",
        "while num > 0:\n",
        "  num //= 10\n",
        "  length += 1\n",
        "if (sq - orig) % (10 ** length) == 0:\n",
        "  print(\"Automorphic!\")\n",
        "else:\n",
        "  print(\"Not automorphic.\")"
      ],
      "metadata": {
        "colab": {
          "base_uri": "https://localhost:8080/"
        },
        "id": "7IR2iZ1qGoAZ",
        "outputId": "883aa14c-a608-42cc-f76b-c3d243a78002"
      },
      "execution_count": 29,
      "outputs": [
        {
          "output_type": "stream",
          "name": "stdout",
          "text": [
            "Enter the number: 34\n",
            "Not automorphic.\n"
          ]
        }
      ]
    },
    {
      "cell_type": "markdown",
      "source": [
        ""
      ],
      "metadata": {
        "id": "1DrBhlveKaS9"
      }
    },
    {
      "cell_type": "markdown",
      "source": [
        "**Print decimal equivalent of binary number**"
      ],
      "metadata": {
        "id": "XP43iiObJz0F"
      }
    },
    {
      "cell_type": "code",
      "source": [
        "num = int(input(\"Enter binary number: \"))\n",
        "dec = 0\n",
        "i = 0\n",
        "while num:\n",
        "  dec += (2 ** i) * (num % 10)\n",
        "  i += 1\n",
        "  num //= 10\n",
        "print(f\"Decimal equivalent is {dec}\")"
      ],
      "metadata": {
        "colab": {
          "base_uri": "https://localhost:8080/"
        },
        "id": "K3puSpIvJkv6",
        "outputId": "24ef35f1-9f9c-4a9d-a65d-c2b2da347866"
      },
      "execution_count": 32,
      "outputs": [
        {
          "output_type": "stream",
          "name": "stdout",
          "text": [
            "Enter binary number: 1000\n",
            "Decimal equivalent is 8\n"
          ]
        }
      ]
    },
    {
      "cell_type": "code",
      "source": [
        ""
      ],
      "metadata": {
        "id": "y1moiPvPKSPs"
      },
      "execution_count": null,
      "outputs": []
    }
  ]
}