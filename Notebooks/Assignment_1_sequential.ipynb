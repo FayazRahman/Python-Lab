{
  "nbformat": 4,
  "nbformat_minor": 0,
  "metadata": {
    "colab": {
      "name": "Assignment-1.ipynb",
      "provenance": []
    },
    "kernelspec": {
      "name": "python3",
      "display_name": "Python 3"
    },
    "language_info": {
      "name": "python"
    }
  },
  "cells": [
    {
      "cell_type": "markdown",
      "source": [
        "**Program to find average of three numbers**"
      ],
      "metadata": {
        "id": "GPejnVbQqDKa"
      }
    },
    {
      "cell_type": "code",
      "source": [
        "avg = sum(map(float, input(\"Enter 3 numbers (seperated by space): \").split())) / 3\n",
        "print(avg)"
      ],
      "metadata": {
        "colab": {
          "base_uri": "https://localhost:8080/"
        },
        "id": "O4DpUj3ppvwN",
        "outputId": "8ff2f238-a2fa-429a-9f7c-b00b500ded30"
      },
      "execution_count": 6,
      "outputs": [
        {
          "output_type": "stream",
          "name": "stdout",
          "text": [
            "Enter 3 numbers (seperated by space): 1 2 5\n",
            "2.6666666666666665\n"
          ]
        }
      ]
    },
    {
      "cell_type": "markdown",
      "source": [
        "**Program to find sum and average of three numbers**"
      ],
      "metadata": {
        "id": "P14aJTdkq2F5"
      }
    },
    {
      "cell_type": "code",
      "source": [
        "lst = map(float, input(\"Enter 3 numbers (seperated by space): \").split())\n",
        "s = sum(lst)\n",
        "avg = s / 3\n",
        "print(f\"Sum is {s}, average is {avg}\")"
      ],
      "metadata": {
        "colab": {
          "base_uri": "https://localhost:8080/"
        },
        "id": "osvgMapkrm9E",
        "outputId": "9ab65dda-97d2-4bd0-ff67-21278fe868ee"
      },
      "execution_count": 7,
      "outputs": [
        {
          "output_type": "stream",
          "name": "stdout",
          "text": [
            "Enter 3 numbers (seperated by space): 4 5 2\n",
            "Sum is 11.0, average is 3.6666666666666665\n"
          ]
        }
      ]
    },
    {
      "cell_type": "markdown",
      "source": [
        "**Program to convert time in seconds to hours minutes and seconds**"
      ],
      "metadata": {
        "id": "YQDOEkeSxHg4"
      }
    },
    {
      "cell_type": "code",
      "source": [
        "time = int(input(\"Enter time in seconds: \"))\n",
        "hours = time // 3600\n",
        "time %= 3600\n",
        "minutes = time // 60\n",
        "time %= 60\n",
        "print(f\"Hours: {hours}, minutes: {minutes}, seconds: {time}\")"
      ],
      "metadata": {
        "colab": {
          "base_uri": "https://localhost:8080/"
        },
        "id": "OWwCc5w6xOYO",
        "outputId": "01d15d59-e19d-4ed4-b522-3b76ff9d034b"
      },
      "execution_count": 14,
      "outputs": [
        {
          "output_type": "stream",
          "name": "stdout",
          "text": [
            "Enter time in seconds: 3670\n",
            "Hours: 1, minutes: 1, seconds: 10\n"
          ]
        }
      ]
    },
    {
      "cell_type": "markdown",
      "source": [
        "**Program to find area and perimeter triangle**"
      ],
      "metadata": {
        "id": "GU3j-DIPzNfn"
      }
    },
    {
      "cell_type": "code",
      "source": [
        "from math import sqrt\n",
        "sides = list(map(float, input(\"Enter sides of triangle (seperated by space): \").split()))\n",
        "perimeter = sum(sides)\n",
        "s = perimeter/2\n",
        "area = sqrt(s * (s-sides[0]) * (s - sides[1]) * (s - sides[2]))\n",
        "print(f\"Perimeter is {perimeter}, area is {area}\")"
      ],
      "metadata": {
        "colab": {
          "base_uri": "https://localhost:8080/"
        },
        "id": "vLz9lnq6ykoC",
        "outputId": "195e2d17-87b3-4a9a-b3d7-797296d0e6f2"
      },
      "execution_count": 17,
      "outputs": [
        {
          "output_type": "stream",
          "name": "stdout",
          "text": [
            "Enter sides of triangle (seperated by space): 3 4 5\n",
            "Perimeter is 12.0, area is 6.0\n"
          ]
        }
      ]
    },
    {
      "cell_type": "markdown",
      "source": [
        "**Program to find area of circle**"
      ],
      "metadata": {
        "id": "EFrkYwHg1n11"
      }
    },
    {
      "cell_type": "code",
      "source": [
        "from math import pi\n",
        "radius = float(input(\"Enter radius of circle: \"))\n",
        "area = pi * radius * radius\n",
        "print(f\"Area of circle is {area}\")"
      ],
      "metadata": {
        "colab": {
          "base_uri": "https://localhost:8080/"
        },
        "id": "cr3PHvw50lPh",
        "outputId": "c188fc5d-27a4-40a8-a552-5a450a5029c4"
      },
      "execution_count": 18,
      "outputs": [
        {
          "output_type": "stream",
          "name": "stdout",
          "text": [
            "Enter radius of circle: 5\n",
            "Area of circle is 78.53981633974483\n"
          ]
        }
      ]
    },
    {
      "cell_type": "markdown",
      "source": [
        "**Program to interchange two variables**"
      ],
      "metadata": {
        "id": "hLU7QEMZ2Bi2"
      }
    },
    {
      "cell_type": "code",
      "source": [
        "x, y = eval(input(\"Enter two numbers (seperated by comma): \"))\n",
        "x, y = y, x\n",
        "print(x, y)"
      ],
      "metadata": {
        "colab": {
          "base_uri": "https://localhost:8080/"
        },
        "id": "mhdQsxTs2K6j",
        "outputId": "aa80ec0a-2e6b-42d2-9c4d-d604c82e493f"
      },
      "execution_count": 21,
      "outputs": [
        {
          "output_type": "stream",
          "name": "stdout",
          "text": [
            "Enter two numbers (seperated by comma): 2, 5\n",
            "5 2\n"
          ]
        }
      ]
    },
    {
      "cell_type": "markdown",
      "source": [
        "**Program to display sum, difference, quotient, remainder**"
      ],
      "metadata": {
        "id": "HKOfj5g-2-T5"
      }
    },
    {
      "cell_type": "code",
      "source": [
        "x, y = eval(input(\"Enter two numbers (seperated by comma): \"))\n",
        "print(f\"Sum: {x + y}\")\n",
        "print(f\"Difference: {x - y}\")\n",
        "print(f\"Quotient: {x // y}\")\n",
        "print(f\"Remainder: {x % y}\")"
      ],
      "metadata": {
        "colab": {
          "base_uri": "https://localhost:8080/"
        },
        "id": "h7YJrvxx27mt",
        "outputId": "288d4725-c8ae-48a5-f6f3-5420a3d60b75"
      },
      "execution_count": 23,
      "outputs": [
        {
          "output_type": "stream",
          "name": "stdout",
          "text": [
            "Enter two numbers (seperated by comma): 5, 2\n",
            "Sum: 7\n",
            "Difference: 3\n",
            "Quotient: 2\n",
            "Remainder: 1\n"
          ]
        }
      ]
    },
    {
      "cell_type": "markdown",
      "source": [
        "**Program to convert number of days to years, months and days**"
      ],
      "metadata": {
        "id": "yDAacret4EFQ"
      }
    },
    {
      "cell_type": "code",
      "source": [
        "days = int(input(\"Enter number of days: \"))\n",
        "years = days // 365\n",
        "days %= 365\n",
        "months = days // 30\n",
        "days %= 30\n",
        "print(f\"{years} years, {months} months, {days} days.\")"
      ],
      "metadata": {
        "colab": {
          "base_uri": "https://localhost:8080/"
        },
        "id": "tyrYFHtX3VYn",
        "outputId": "5a884c0a-6ccd-4ce4-c2de-0e0348a75fa2"
      },
      "execution_count": 24,
      "outputs": [
        {
          "output_type": "stream",
          "name": "stdout",
          "text": [
            "Enter number of days: 396\n",
            "1 years, 1 months, 1 days.\n"
          ]
        }
      ]
    },
    {
      "cell_type": "code",
      "source": [
        ""
      ],
      "metadata": {
        "id": "E_nfUMYw4ADY"
      },
      "execution_count": null,
      "outputs": []
    }
  ]
}