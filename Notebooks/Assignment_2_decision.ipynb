{
  "nbformat": 4,
  "nbformat_minor": 0,
  "metadata": {
    "colab": {
      "name": "Assignment-2.ipynb",
      "provenance": []
    },
    "kernelspec": {
      "name": "python3",
      "display_name": "Python 3"
    },
    "language_info": {
      "name": "python"
    }
  },
  "cells": [
    {
      "cell_type": "markdown",
      "source": [
        "**Program to find bigger of two numbers**"
      ],
      "metadata": {
        "id": "2NSY6u8t4-Tw"
      }
    },
    {
      "cell_type": "code",
      "execution_count": 2,
      "metadata": {
        "colab": {
          "base_uri": "https://localhost:8080/"
        },
        "id": "6DVGDEiA4Xfp",
        "outputId": "c30d0c74-7b68-4c2b-93b0-8f14afb7606b"
      },
      "outputs": [
        {
          "output_type": "stream",
          "name": "stdout",
          "text": [
            "Enter two numbers (seperated by comma): 10, 16\n",
            "Max is 16\n"
          ]
        }
      ],
      "source": [
        "x, y = eval(input(\"Enter two numbers (seperated by comma): \"))\n",
        "max_ = x if x > y else y\n",
        "print(f\"Max is {max_}\")"
      ]
    },
    {
      "cell_type": "markdown",
      "source": [
        "**Program to find smallest of three numbers**"
      ],
      "metadata": {
        "id": "A_dxsnHH5YDT"
      }
    },
    {
      "cell_type": "code",
      "source": [
        "x, y, z = eval(input(\"Enter three numbers (seperated by comma): \"))\n",
        "smaller = x if x < y else y\n",
        "smaller = z if z < smaller else smaller\n",
        "print(f\"Smallest number is {smaller}\")"
      ],
      "metadata": {
        "colab": {
          "base_uri": "https://localhost:8080/"
        },
        "id": "0VjAa5pI5RAj",
        "outputId": "38d359ae-d406-4322-99ed-30ff89a67c65"
      },
      "execution_count": 5,
      "outputs": [
        {
          "output_type": "stream",
          "name": "stdout",
          "text": [
            "Enter two numbers (seperated by comma): 1, 2, 3\n",
            "Smallest number is 1\n"
          ]
        }
      ]
    },
    {
      "cell_type": "markdown",
      "source": [
        "**Program to find the distance between two points on the number line**"
      ],
      "metadata": {
        "id": "JwP0vg5F6Zrf"
      }
    },
    {
      "cell_type": "code",
      "source": [
        "x, y = eval(input(\"Enter two numbers (seperated by comma): \"))\n",
        "length = x - y \n",
        "if length < 0:\n",
        "  length *= -1\n",
        "print(f\"Distance is {length}\")"
      ],
      "metadata": {
        "colab": {
          "base_uri": "https://localhost:8080/"
        },
        "id": "iDoXeenw6S3q",
        "outputId": "38bea849-6c06-4fd8-fd25-bf25e44d4a40"
      },
      "execution_count": 6,
      "outputs": [
        {
          "output_type": "stream",
          "name": "stdout",
          "text": [
            "Enter two numbers (seperated by comma): -5, 6\n",
            "Distance is 11\n"
          ]
        }
      ]
    },
    {
      "cell_type": "markdown",
      "source": [
        "**Program to check whether a number is two digit or not**"
      ],
      "metadata": {
        "id": "oUanuAWf7NDZ"
      }
    },
    {
      "cell_type": "code",
      "source": [
        "num = int(input(\"Enter a number: \"))\n",
        "if num >= 10 and num <= 99:\n",
        "  print(\"Yes. It is a two digit number.\")\n",
        "else:\n",
        "  print(\"No. It is not a two digit number.\")"
      ],
      "metadata": {
        "colab": {
          "base_uri": "https://localhost:8080/"
        },
        "id": "QejsArmQ7KrP",
        "outputId": "192b76db-796d-4354-f4aa-320e82929a01"
      },
      "execution_count": 9,
      "outputs": [
        {
          "output_type": "stream",
          "name": "stdout",
          "text": [
            "Enter a number: 50\n",
            "Yes. It is a two digit number.\n"
          ]
        }
      ]
    },
    {
      "cell_type": "markdown",
      "source": [
        "**Program to check whether number is positive, negative or zero**"
      ],
      "metadata": {
        "id": "jsCmqB008HQ3"
      }
    },
    {
      "cell_type": "code",
      "source": [
        "num = float(input(\"Enter a number: \"))\n",
        "if num < 0:\n",
        "  print(\"The number is negative.\")\n",
        "elif num > 0:\n",
        "  print(\"The number is positive.\")\n",
        "else:\n",
        "  print(\"The number is zero.\")"
      ],
      "metadata": {
        "colab": {
          "base_uri": "https://localhost:8080/"
        },
        "id": "r0dA_KHx7jzH",
        "outputId": "250e5018-571f-4798-8cd9-35541a2694f6"
      },
      "execution_count": 10,
      "outputs": [
        {
          "output_type": "stream",
          "name": "stdout",
          "text": [
            "Enter a number: 123\n",
            "The number is positive.\n"
          ]
        }
      ]
    },
    {
      "cell_type": "markdown",
      "source": [
        "**Program to check whether a number is a multiple of another**"
      ],
      "metadata": {
        "id": "wqiyeiEg8vE-"
      }
    },
    {
      "cell_type": "code",
      "source": [
        "x, y = eval(input(\"Enter two numbers (seperated by comma): \"))\n",
        "if x % y == 0:\n",
        "  print(f\"{x} is a multiple of {y}.\")\n",
        "else:\n",
        "  print(f\"{x} is not a multiple of {y}.\")"
      ],
      "metadata": {
        "colab": {
          "base_uri": "https://localhost:8080/"
        },
        "id": "PUsX-__k8ruJ",
        "outputId": "2ef6ae8b-9bf5-4807-bde1-88b93cb64666"
      },
      "execution_count": 13,
      "outputs": [
        {
          "output_type": "stream",
          "name": "stdout",
          "text": [
            "Enter two numbers (seperated by comma): 4, 2\n",
            "4 is a multiple of 2.\n"
          ]
        }
      ]
    },
    {
      "cell_type": "markdown",
      "source": [
        "**Program to find the smallest digit in a two digit number**"
      ],
      "metadata": {
        "id": "NenIl1vo9dCf"
      }
    },
    {
      "cell_type": "code",
      "source": [
        "num = int(input(\"Enter a two digit number: \"))\n",
        "d1 = num % 10\n",
        "d2 = num // 10\n",
        "min_ = d1 if d1 < d2 else d2\n",
        "print(f\"Smallest digit is {min_}\")"
      ],
      "metadata": {
        "colab": {
          "base_uri": "https://localhost:8080/"
        },
        "id": "GxSDrbIv9Wk2",
        "outputId": "d5d41227-094c-4f1f-da1a-c74cca2b58fc"
      },
      "execution_count": 17,
      "outputs": [
        {
          "output_type": "stream",
          "name": "stdout",
          "text": [
            "Enter a two digit number: 75\n",
            "Smallest digit is 5\n"
          ]
        }
      ]
    },
    {
      "cell_type": "markdown",
      "source": [
        "**Program to find nature of solutions of a quadratic equation**"
      ],
      "metadata": {
        "id": "auGaugOI-qGG"
      }
    },
    {
      "cell_type": "code",
      "source": [
        "a, b, c = eval(input(\"Enter coefficients (seperated by commas): \"))\n",
        "d = b ** 2 - 4 * a * c\n",
        "if d > 0:\n",
        "  print(\"Equation has 2 real solutions.\")\n",
        "elif d == 0:\n",
        "  print(\"Equation has 1 real solution.\")\n",
        "else:\n",
        "  print(\"Equation has no real solutions.\")"
      ],
      "metadata": {
        "colab": {
          "base_uri": "https://localhost:8080/"
        },
        "id": "36D-JeqO-her",
        "outputId": "6a229adb-3895-4d44-c9cd-84c4a5ff6417"
      },
      "execution_count": 18,
      "outputs": [
        {
          "output_type": "stream",
          "name": "stdout",
          "text": [
            "Enter coefficients (seperated by commas): 1, 0, 1\n",
            "Equation has no real solutions.\n"
          ]
        }
      ]
    }
  ]
}